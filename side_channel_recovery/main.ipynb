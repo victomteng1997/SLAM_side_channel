{
 "cells": [
  {
   "cell_type": "code",
   "execution_count": 1,
   "id": "d50a7785",
   "metadata": {},
   "outputs": [],
   "source": [
    "import matplotlib.pyplot as plt\n",
    "from sklearn.cluster import KMeans\n",
    "from sklearn.neighbors import KNeighborsClassifier\n",
    "from sklearn.cluster import MiniBatchKMeans\n",
    "from sklearn.datasets import make_classification\n",
    "import pandas as pd\n",
    "from numpy import unique\n",
    "from matplotlib import pyplot\n",
    "from numpy import where"
   ]
  },
  {
   "cell_type": "code",
   "execution_count": 2,
   "id": "ee5a0be3",
   "metadata": {},
   "outputs": [],
   "source": [
    "from utils.FeatureExtract import process_img\n",
    "import os\n",
    "import cv2\n",
    "import time\n",
    "from threading import Thread"
   ]
  },
  {
   "cell_type": "code",
   "execution_count": 3,
   "id": "7d3b373c",
   "metadata": {},
   "outputs": [],
   "source": [
    "# Enable Debug Settings\n",
    "debug_setting = False\n",
    "\n",
    "def dprint(*arg, debug = debug_setting):\n",
    "    if debug:\n",
    "        try:\n",
    "            print(arg)\n",
    "        except Exception as e:\n",
    "            print(\"Error:\", e)\n",
    "            \n",
    "    "
   ]
  },
  {
   "cell_type": "code",
   "execution_count": 4,
   "id": "201359d2",
   "metadata": {},
   "outputs": [],
   "source": [
    "# load the input data\n",
    "f = open('./E_sample.txt', 'r')\n",
    "WIDTH = 320\n",
    "HEIGHT = 320\n",
    "\n",
    "#f = open('../house_64.txt','r')\n",
    "content = f.readlines()\n",
    "f.close()"
   ]
  },
  {
   "cell_type": "code",
   "execution_count": 5,
   "id": "d25dccaf",
   "metadata": {},
   "outputs": [],
   "source": [
    "# data pre-processing: time-access\n",
    "x1 = []\n",
    "y1 = []\n",
    "\n",
    "x2 = []\n",
    "y2 = []\n",
    "\n",
    "x3 = []\n",
    "y3 = []\n",
    "\n",
    "x4 = []\n",
    "y4 = []\n",
    "\n",
    "for line in content:\n",
    "    #print(line)\n",
    "    time_str = ''\n",
    "    start = False\n",
    "    for char in line:\n",
    "        if char == ']':\n",
    "            break\n",
    "        if start:\n",
    "            time_str += char\n",
    "        if char == '[':\n",
    "            start = True\n",
    "            \n",
    "    #print(time_str)\n",
    "    #print(line)\n",
    "    # manual add range\n",
    "    #if int(time_str) < 789000 or int(time_str)>791000:\n",
    "    #    continue\n",
    "    \n",
    "    \n",
    "    \n",
    "    if \"I\" in line:  # line anchor\n",
    "        x1.append(int(time_str))\n",
    "        y1.append(1) \n",
    "        #print(\"1\", int(time_str))\n",
    "    if \"O\" in line:  # level 1 logic, every pixel should do once\n",
    "        x2.append(int(time_str))\n",
    "        y2.append(0.99)\n",
    "        #print(\"2\", int(time_str))\n",
    "    if \"K\" in line:  # level 2 logic\n",
    "        x3.append(int(time_str))\n",
    "        y3.append(0.98)\n",
    "    if \"R\" in line:\n",
    "        x4.append(int(time_str))\n",
    "        y4.append(0.97)"
   ]
  },
  {
   "cell_type": "code",
   "execution_count": 6,
   "id": "86505f7f",
   "metadata": {},
   "outputs": [
    {
     "name": "stdout",
     "output_type": "stream",
     "text": [
      "340 106227 10151 514\n"
     ]
    }
   ],
   "source": [
    "# basic statistics\n",
    "# statistics\n",
    "I_count = 0   # row level\n",
    "O_count = 0   # pixel level\n",
    "K_count = 0   # second level logic\n",
    "R_count = 0   # third level logic\n",
    "\n",
    "\n",
    "\n",
    "for line in content:\n",
    "    if \"I\" in line:\n",
    "        I_count += 1\n",
    "    if \"O\" in line:\n",
    "        O_count += 1\n",
    "    if \"K\" in line:\n",
    "        K_count += 1\n",
    "    if \"R\" in line:\n",
    "        R_count += 1\n",
    "print(I_count, O_count, K_count, R_count)\n"
   ]
  },
  {
   "cell_type": "code",
   "execution_count": 7,
   "id": "772683f8",
   "metadata": {},
   "outputs": [
    {
     "data": {
      "image/png": "[encoded data removed]",
      "text/plain": [
       "<Figure size 432x288 with 1 Axes>"
      ]
     },
     "metadata": {
      "needs_background": "light"
     },
     "output_type": "display_data"
    }
   ],
   "source": [
    "# check if the time pattern is there.\n",
    "plt.scatter(x1, y1, color=\"red\")\n",
    "plt.scatter(x2, y2, color=\"blue\")     \n",
    "plt.scatter(x3, y3, color=\"yellow\")    \n",
    "plt.scatter(x4, y4, color=\"green\")   \n",
    "plt.show()"
   ]
  },
  {
   "cell_type": "code",
   "execution_count": 8,
   "id": "1e69d1b6",
   "metadata": {},
   "outputs": [
    {
     "name": "stdout",
     "output_type": "stream",
     "text": [
      "731.6676470588235\n"
     ]
    }
   ],
   "source": [
    "# try to handle it.\n",
    "## get avg distance between red points.\n",
    "avg_distance = 0\n",
    "for i in range(1,len(x1)):\n",
    "    avg_distance += x1[i] - x1[i-1]\n",
    "avg_distance= avg_distance/len(x1)\n",
    "\n",
    "print(avg_distance)"
   ]
  },
  {
   "cell_type": "code",
   "execution_count": 9,
   "id": "3b65c943",
   "metadata": {},
   "outputs": [
    {
     "name": "stdout",
     "output_type": "stream",
     "text": [
      "326 80660 1239 276\n"
     ]
    }
   ],
   "source": [
    "#preprocess x2, x3 and x4\n",
    "\n",
    "\n",
    "#first corp the points that only fall into the x1 cycle.\n",
    "processed_x1 = []\n",
    "for i in range(1,len(x1)):\n",
    "    if x1[i]-x1[i-1] < 2:\n",
    "        pass\n",
    "    else:\n",
    "        processed_x1.append(x1[i-1])\n",
    "        \n",
    "\n",
    "\n",
    "processed_x2 = []\n",
    "for i in range(1,len(x2)):\n",
    "    if x2[i]-x2[i-1] < 2 or x2[i] < x1[0] or x2[i] > x1[-1]:\n",
    "        pass\n",
    "    else:\n",
    "        processed_x2.append(x2[i-1])\n",
    "        \n",
    "processed_x3 = []\n",
    "for i in range(1,len(x3)):\n",
    "    if x3[i]-x3[i-1] < 4 or x3[i] < x1[0] or x3[i] > x1[-1]:\n",
    "        pass\n",
    "    else:\n",
    "        processed_x3.append(x3[i-1])\n",
    "        \n",
    "processed_x4 = []\n",
    "for i in range(1,len(x4)):\n",
    "    if x4[i]-x4[i-1] < 4 or x4[i] < x1[0] or x4[i] > x1[-1]:\n",
    "        pass\n",
    "    else:\n",
    "        processed_x4.append(x4[i-1])\n",
    "        \n",
    "print(len(processed_x1),len(processed_x2), len(processed_x3), len(processed_x4))"
   ]
  },
  {
   "cell_type": "code",
   "execution_count": 15,
   "id": "1909ccec",
   "metadata": {},
   "outputs": [
    {
     "name": "stdout",
     "output_type": "stream",
     "text": [
      "[0, 1, 1, 1, 1, 1, 1, 320, 1, 287, 284, 280, 259, 283, 280, 265, 1, 279, 1, 283, 285, 100, 190, 2, 274, 274, 279, 280, 2, 294, 293, 290, 287, 286, 294, 294, 16, 572, 285, 299, 279, 296, 2, 289, 294, 295, 291, 288, 289, 571, 291, 1, 291, 1, 286, 1, 287, 293, 280, 294, 1, 1, 284, 1, 286, 279, 286, 293, 290, 290, 284, 1, 299, 22, 276, 292, 1, 286, 288, 286, 272, 275, 284, 295, 293, 290, 292, 293, 292, 339, 1, 336, 327, 335, 306, 327, 279, 289, 2, 277, 284, 293, 297, 287, 298, 1, 1, 294, 292, 292, 291, 286, 291, 314, 1, 333, 327, 323, 1, 320, 323, 326, 290, 281, 285, 291, 293, 1, 291, 1, 286, 1, 297, 1, 290, 516, 1, 284, 1, 274, 2, 299, 291, 293, 289, 1, 288, 291, 290, 1, 295, 294, 292, 299, 1, 300, 571, 294, 290, 291, 282, 289, 302, 292, 295, 287, 578, 293, 583, 299, 289, 276, 284, 2, 285, 302, 288, 326, 1, 320, 331, 338, 1, 338, 326, 315, 230, 230, 224, 2, 206, 212, 225, 214, 223, 228, 219, 199, 219, 236, 591, 292, 279, 262, 259, 255, 185, 195, 207, 218, 419, 427, 435, 212, 211, 217, 418, 203, 212, 217, 212, 218, 206, 220, 215, 232, 219, 204, 222, 210, 225, 216, 225, 214, 218, 210, 213, 223, 209, 212, 222, 217, 450, 413, 207, 209, 217, 210, 213, 229, 212, 221, 187, 229, 286, 297, 290, 289, 1, 295, 601, 221, 209, 211, 417, 214, 211, 206, 207, 208, 198, 211, 193, 275, 285, 273, 281, 288, 1, 303, 1, 315, 211, 209, 220, 198, 218, 218, 204, 209, 204, 212, 408, 217, 218, 218, 213, 201, 217, 194, 409, 398, 441, 213, 206, 226, 221, 219, 212, 218, 212, 455, 224, 229, 222, 219, 233, 236, 222, 217, 219, 231, 228, 211, 213, 435, 214, 225, 209, 227, 235, 224, 414, 221, 225, 204, 211, 203, 215] 339\n",
      "[320, 287, 284, 280, 259, 283, 280, 265, 279, 283, 285, 100, 190, 274, 274, 279, 280, 294, 293, 290, 287, 286, 294, 294, 16, 572, 285, 299, 279, 296, 289, 294, 295, 291, 288, 289, 571, 291, 291, 286, 287, 293, 280, 294, 284, 286, 279, 286, 293, 290, 290, 284, 299, 22, 276, 292, 286, 288, 286, 272, 275, 284, 295, 293, 290, 292, 293, 292, 339, 336, 327, 335, 306, 327, 279, 289, 277, 284, 293, 297, 287, 298, 294, 292, 292, 291, 286, 291, 314, 333, 327, 323, 320, 323, 326, 290, 281, 285, 291, 293, 291, 286, 297, 290, 516, 284, 274, 299, 291, 293, 289, 288, 291, 290, 295, 294, 292, 299, 300, 571, 294, 290, 291, 282, 289, 302, 292, 295, 287, 578, 293, 583, 299, 289, 276, 284, 285, 302, 288, 326, 320, 331, 338, 338, 326, 315, 230, 230, 224, 206, 212, 225, 214, 223, 228, 219, 199, 219, 236, 591, 292, 279, 262, 259, 255, 185, 195, 207, 218, 419, 427, 435, 212, 211, 217, 418, 203, 212, 217, 212, 218, 206, 220, 215, 232, 219, 204, 222, 210, 225, 216, 225, 214, 218, 210, 213, 223, 209, 212, 222, 217, 450, 413, 207, 209, 217, 210, 213, 229, 212, 221, 187, 229, 286, 297, 290, 289, 295, 601, 221, 209, 211, 417, 214, 211, 206, 207, 208, 198, 211, 193, 275, 285, 273, 281, 288, 303, 315, 211, 209, 220, 198, 218, 218, 204, 209, 204, 212, 408, 217, 218, 218, 213, 201, 217, 194, 409, 398, 441, 213, 206, 226, 221, 219, 212, 218, 212, 455, 224, 229, 222, 219, 233, 236, 222, 217, 219, 231, 228, 211, 213, 435, 214, 225, 209, 227, 235, 224, 414, 221, 225, 204, 211, 203, 215] 295\n"
     ]
    }
   ],
   "source": [
    "# now check the number of x2 points between each x1 (only for information)\n",
    "x2_count_in_line = []\n",
    "num_of_point = 0\n",
    "x1_counter = 0\n",
    "for p in processed_x2:\n",
    "    if p<x1[x1_counter]:\n",
    "        num_of_point += 1\n",
    "    else:\n",
    "        x2_count_in_line.append(num_of_point)\n",
    "        num_of_point = 1\n",
    "        x1_counter += 1\n",
    "    if x1_counter >= len(x1):\n",
    "        break\n",
    "        \n",
    "print(x2_count_in_line, len(x2_count_in_line))\n",
    "new_x2_count = [x for x in x2_count_in_line if x > 10]\n",
    "print(new_x2_count, len(new_x2_count))\n",
    "\n",
    "x3_count_in_line = [0]*len(processed_x2)\n",
    "x2_counter=0\n",
    "x3_counter = 0\n",
    "while True:\n",
    "    p = processed_x3[x3_counter]\n",
    "    #print(p, processed_x2[x2_counter])\n",
    "    if p<=x2[x2_counter]:\n",
    "        x3_count_in_line[x2_counter]+=1\n",
    "        x3_counter += 1\n",
    "    else:\n",
    "        x2_counter += 1\n",
    "    if x2_counter >= len(processed_x2) or x3_counter >= len(processed_x3):\n",
    "        break\n",
    "        \n",
    "\n",
    "dprint(x3_count_in_line, len(x3_count_in_line))\n"
   ]
  },
  {
   "cell_type": "code",
   "execution_count": 11,
   "id": "39725fb9",
   "metadata": {},
   "outputs": [
    {
     "name": "stdout",
     "output_type": "stream",
     "text": [
      "314\n",
      "326\n"
     ]
    }
   ],
   "source": [
    "# group the images based on hard kmeans\n",
    "\n",
    "## rename all the variables for easier coding\n",
    "x1_p = processed_x1\n",
    "x2_p = processed_x2\n",
    "x3_p = processed_x3\n",
    "x4_p = processed_x4\n",
    "\n",
    "\n",
    "## do grouping\n",
    "n_lines = HEIGHT - 6\n",
    "n_cols = WIDTH - 6 \n",
    "\n",
    "\n",
    "## 1. group the line numbers into the n_lines\n",
    "y1 = [0]*len(x1_p)\n",
    "x1_y1 = {\"X\":x1_p, \"Y\":y1}\n",
    "print(n_lines)\n",
    "df = pd.DataFrame(x1_y1)\n",
    "km = KMeans(n_clusters = n_lines, random_state=0).fit(df)\n",
    "\n",
    "sampled_x1 = []\n",
    "for label in km.labels_:\n",
    "    point = df[km.labels_ == label]['X'].values.tolist()\n",
    "    sampled_x1.append(point)\n",
    "sampled_x1.sort()\n",
    "dprint(sampled_x1)\n",
    "print(len(sampled_x1))"
   ]
  },
  {
   "cell_type": "code",
   "execution_count": 12,
   "id": "f8b5cb2b",
   "metadata": {},
   "outputs": [
    {
     "name": "stdout",
     "output_type": "stream",
     "text": [
      "260\n"
     ]
    }
   ],
   "source": [
    "x1_y1 = list(zip(x1_p, y1))\n",
    "model = MiniBatchKMeans(n_clusters=314)\n",
    "# fit the model\n",
    "model.fit(x1_y1)\n",
    "# assign a cluster to each example\n",
    "yhat = model.predict(x1_y1)\n",
    "# retrieve unique clusters\n",
    "clusters = unique(yhat)\n",
    "print(len(clusters))"
   ]
  },
  {
   "cell_type": "code",
   "execution_count": 13,
   "id": "bbbb12cc",
   "metadata": {},
   "outputs": [],
   "source": [
    "# try to recover the images"
   ]
  }
 ],
 "metadata": {
  "kernelspec": {
   "display_name": "Python 3 (ipykernel)",
   "language": "python",
   "name": "python3"
  },
  "language_info": {
   "codemirror_mode": {
    "name": "ipython",
    "version": 3
   },
   "file_extension": ".py",
   "mimetype": "text/x-python",
   "name": "python",
   "nbconvert_exporter": "python",
   "pygments_lexer": "ipython3",
   "version": "3.8.5"
  }
 },
 "nbformat": 4,
 "nbformat_minor": 5
}
