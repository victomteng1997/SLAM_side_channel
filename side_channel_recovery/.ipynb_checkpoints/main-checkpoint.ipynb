{
 "cells": [
  {
   "cell_type": "code",
   "execution_count": 1,
   "id": "d50a7785",
   "metadata": {},
   "outputs": [],
   "source": [
    "import matplotlib.pyplot as plt\n",
    "from sklearn.cluster import KMeans\n",
    "import pandas as pd"
   ]
  },
  {
   "cell_type": "code",
   "execution_count": 2,
   "id": "201359d2",
   "metadata": {},
   "outputs": [],
   "source": [
    "# load the input data\n",
    "f = open('./house_sample.txt', 'r')\n",
    "#f = open('../house_64.txt','r')\n",
    "content = f.readlines()\n",
    "f.close()"
   ]
  },
  {
   "cell_type": "code",
   "execution_count": 3,
   "id": "d25dccaf",
   "metadata": {},
   "outputs": [],
   "source": [
    "# data pre-processing: time-access\n",
    "x1 = []\n",
    "y1 = []\n",
    "\n",
    "x2 = []\n",
    "y2 = []\n",
    "\n",
    "x3 = []\n",
    "y3 = []\n",
    "\n",
    "x4 = []\n",
    "y4 = []\n",
    "\n",
    "for line in content:\n",
    "    #print(line)\n",
    "    time_str = ''\n",
    "    start = False\n",
    "    for char in line:\n",
    "        if char == ']':\n",
    "            break\n",
    "        if start:\n",
    "            time_str += char\n",
    "        if char == '[':\n",
    "            start = True\n",
    "            \n",
    "    #print(time_str)\n",
    "    #print(line)\n",
    "    # manual add range\n",
    "    #if int(time_str) < 789000 or int(time_str)>791000:\n",
    "    #    continue\n",
    "    \n",
    "    \n",
    "    \n",
    "    if \"I\" in line:  # line anchor\n",
    "        x1.append(int(time_str))\n",
    "        y1.append(1) \n",
    "        #print(\"1\", int(time_str))\n",
    "    if \"O\" in line:  # level 1 logic, every pixel should do once\n",
    "        x2.append(int(time_str))\n",
    "        y2.append(0.99)\n",
    "        #print(\"2\", int(time_str))\n",
    "    if \"K\" in line:  # level 2 logic\n",
    "        x3.append(int(time_str))\n",
    "        y3.append(0.98)\n",
    "    if \"R\" in line:\n",
    "        x4.append(int(time_str))\n",
    "        y4.append(0.97)"
   ]
  },
  {
   "cell_type": "code",
   "execution_count": 4,
   "id": "86505f7f",
   "metadata": {},
   "outputs": [
    {
     "name": "stdout",
     "output_type": "stream",
     "text": [
      "68 3904 5476 0\n"
     ]
    }
   ],
   "source": [
    "# basic statistics\n",
    "# statistics\n",
    "I_count = 0   # row level\n",
    "O_count = 0   # pixel level\n",
    "K_count = 0   # second level logic\n",
    "R_count = 0   # third level logic\n",
    "\n",
    "\n",
    "\n",
    "for line in content:\n",
    "    if \"I\" in line:\n",
    "        I_count += 1\n",
    "    if \"O\" in line:\n",
    "        O_count += 1\n",
    "    if \"K\" in line:\n",
    "        K_count += 1\n",
    "    if \"R\" in line:\n",
    "        R_count += 1\n",
    "print(I_count, O_count, K_count, R_count)\n"
   ]
  },
  {
   "cell_type": "code",
   "execution_count": 5,
   "id": "772683f8",
   "metadata": {},
   "outputs": [
    {
     "data": {
      "image/png": "[encoded data removed]",
      "text/plain": [
       "<Figure size 432x288 with 1 Axes>"
      ]
     },
     "metadata": {
      "needs_background": "light"
     },
     "output_type": "display_data"
    }
   ],
   "source": [
    "# check if the time pattern is there.\n",
    "plt.scatter(x1, y1, color=\"red\")\n",
    "plt.scatter(x2, y2, color=\"blue\")     \n",
    "plt.scatter(x3, y3, color=\"yellow\")    \n",
    "plt.scatter(x4, y4, color=\"green\")   \n",
    "plt.show()"
   ]
  },
  {
   "cell_type": "code",
   "execution_count": 6,
   "id": "1e69d1b6",
   "metadata": {},
   "outputs": [
    {
     "name": "stdout",
     "output_type": "stream",
     "text": [
      "186.2941176470588\n"
     ]
    }
   ],
   "source": [
    "# try to handle it.\n",
    "## get avg distance between red points.\n",
    "avg_distance = 0\n",
    "for i in range(1,len(x1)):\n",
    "    avg_distance += x1[i] - x1[i-1]\n",
    "avg_distance= avg_distance/len(x1)\n",
    "\n",
    "print(avg_distance)"
   ]
  },
  {
   "cell_type": "code",
   "execution_count": 7,
   "id": "910fc8e5",
   "metadata": {},
   "outputs": [
    {
     "name": "stdout",
     "output_type": "stream",
     "text": [
      "3416 3906 0\n"
     ]
    }
   ],
   "source": [
    "#preprocess x2, x3 and x4\n",
    "processed_x2 = []\n",
    "for i in range(1,len(x2)):\n",
    "    if x2[i]-x2[i-1] < 2:\n",
    "        pass\n",
    "    else:\n",
    "        processed_x2.append(x2[i-1])\n",
    "        \n",
    "processed_x3 = []\n",
    "for i in range(1,len(x3)):\n",
    "    if x3[i]-x3[i-1] < 2:\n",
    "        pass\n",
    "    else:\n",
    "        processed_x3.append(x3[i-1])\n",
    "        \n",
    "processed_x4 = []\n",
    "for i in range(1,len(x4)):\n",
    "    if x4[i]-x4[i-1] < 2:\n",
    "        pass\n",
    "    else:\n",
    "        processed_x4.append(x4[i-1])\n",
    "        \n",
    "print(len(processed_x2), len(processed_x3), len(processed_x4))"
   ]
  },
  {
   "cell_type": "code",
   "execution_count": 8,
   "id": "1909ccec",
   "metadata": {},
   "outputs": [
    {
     "name": "stdout",
     "output_type": "stream",
     "text": [
      "[0, 1, 1, 1, 1, 1, 1, 8, 32, 50, 1, 66, 61, 71, 1, 1, 72, 71, 73, 63, 60, 64, 58, 67, 67, 144, 128, 55, 58, 53, 66, 59, 64, 60, 60, 53, 59, 55, 70, 60, 61, 54, 57, 60, 59, 140, 59, 52, 53, 60, 55, 64, 54, 61, 60, 3, 55, 61, 61, 52, 52, 1, 44, 52, 48, 50, 49] 67\n"
     ]
    }
   ],
   "source": [
    "# now check the number of x2 points between each x1\n",
    "x2_count_in_line = []\n",
    "num_of_point = 0\n",
    "x1_counter = 0\n",
    "for p in processed_x2:\n",
    "    if p<x1[x1_counter]:\n",
    "        num_of_point += 1\n",
    "    else:\n",
    "        x2_count_in_line.append(num_of_point)\n",
    "        num_of_point = 1\n",
    "        x1_counter += 1\n",
    "    if x1_counter >= len(x1):\n",
    "        break\n",
    "        \n",
    "print(x2_count_in_line, len(x2_count_in_line))\n",
    "\n",
    "# use x2_count_in_line to remove non-sense points and regulate the pixel counter.\n",
    "\n"
   ]
  },
  {
   "cell_type": "code",
   "execution_count": 9,
   "id": "1a3fccac",
   "metadata": {},
   "outputs": [
    {
     "name": "stdout",
     "output_type": "stream",
     "text": [
      "[1, 0, 1, 0, 0, 1, 0, 0, 0, 0, 0, 0, 0, 0, 0, 0, 0, 0, 0, 0, 0, 0, 1, 0, 1, 0, 0, 0, 0, 0, 0, 0, 0, 0, 0, 0, 0, 0, 0, 0, 0, 0, 1, 1, 0, 0, 0, 0, 0, 0, 0, 0, 0, 0, 0, 1, 0, 0, 0, 0, 0, 0, 0, 0, 0, 0, 0, 0, 0, 0, 0, 0, 0, 0, 1, 1, 0, 0, 0, 1, 0, 0, 0, 1, 0, 0, 0, 0, 0, 0, 0, 0, 0, 0, 0, 0, 0, 0, 0, 0, 0, 1, 1, 1, 1, 1, 1, 1, 0, 0, 0, 0, 0, 0, 0, 0, 0, 0, 0, 0, 0, 0, 0, 0, 0, 0, 0, 0, 0, 0, 0, 0, 0, 0, 1, 1, 0, 0, 1, 0, 1, 0, 0, 1, 0, 1, 1, 0, 0, 1, 0, 1, 0, 1, 0, 0, 0, 0, 0, 0, 0, 0, 0, 0, 0, 0, 0, 1, 1, 0, 0, 1, 0, 0, 1, 2, 1, 1, 1, 1, 1, 1, 1, 1, 0, 0, 0, 0, 0, 0, 0, 0, 0, 0, 0, 0, 0, 0, 0, 0, 0, 0, 0, 0, 0, 0, 0, 0, 1, 0, 1, 1, 1, 0, 0, 1, 0, 2, 0, 1, 1, 1, 1, 3, 0, 1, 1, 1, 1, 0, 0, 1, 0, 0, 0, 0, 0, 0, 0, 1, 1, 1, 0, 2, 1, 1, 1, 1, 1, 2, 1, 2, 1, 1, 0, 2, 1, 1, 1, 1, 1, 0, 1, 0, 0, 1, 0, 0, 0, 0, 0, 0, 0, 0, 0, 0, 0, 0, 0, 0, 0, 0, 0, 0, 0, 0, 0, 0, 1, 1, 1, 1, 1, 1, 1, 0, 1, 1, 1, 1, 0, 1, 2, 1, 1, 0, 1, 1, 1, 1, 1, 1, 0, 1, 0, 0, 0, 0, 1, 0, 0, 0, 1, 0, 1, 1, 1, 1, 1, 2, 1, 3, 1, 2, 1, 1, 1, 1, 1, 0, 0, 0, 0, 1, 0, 0, 0, 0, 0, 0, 0, 0, 0, 0, 0, 0, 0, 0, 0, 0, 0, 0, 0, 0, 0, 0, 1, 0, 1, 0, 1, 0, 0, 1, 0, 1, 1, 0, 1, 0, 2, 0, 3, 1, 0, 0, 0, 0, 0, 0, 2, 1, 1, 0, 0, 1, 0, 1, 1, 1, 0, 1, 2, 3, 2, 1, 1, 1, 2, 1, 2, 1, 2, 1, 1, 1, 0, 2, 1, 1, 1, 0, 1, 0, 0, 0, 0, 0, 0, 0, 0, 0, 0, 0, 0, 0, 0, 0, 0, 0, 0, 0, 0, 0, 0, 0, 0, 0, 1, 2, 1, 2, 1, 1, 0, 0, 2, 1, 1, 0, 1, 1, 3, 2, 1, 1, 1, 0, 0, 0, 1, 1, 0, 2, 2, 1, 0, 1, 2, 1, 2, 1, 2, 0, 2, 2, 2, 1, 0, 1, 1, 0, 1, 1, 1, 2, 0, 1, 1, 1, 1, 2, 1, 1, 2, 1, 1, 1, 0, 0, 0, 0, 0, 0, 0, 0, 0, 0, 0, 0, 0, 0, 0, 0, 0, 0, 0, 0, 0, 0, 0, 0, 0, 1, 1, 1, 2, 1, 1, 1, 1, 1, 1, 1, 0, 0, 2, 2, 2, 1, 1, 1, 0, 1, 1, 2, 1, 0, 1, 2, 1, 2, 1, 2, 1, 2, 0, 1, 1, 1, 0, 1, 2, 1, 0, 1, 1, 1, 0, 1, 0, 0, 1, 1, 1, 0, 1, 1, 1, 0, 2, 2, 1, 1, 0, 0, 0, 0, 0, 0, 0, 0, 0, 0, 0, 1, 0, 0, 0, 0, 0, 0, 0, 0, 0, 0, 0, 0, 1, 1, 1, 1, 0, 0, 0, 1, 0, 1, 1, 1, 1, 1, 1, 3, 3, 1, 1, 1, 0, 1, 1, 1, 1, 1, 1, 2, 1, 2, 1, 0, 2, 3, 2, 1, 0, 1, 1, 1, 1, 1, 0, 1, 1, 0, 0, 1, 0, 1, 1, 1, 1, 1, 1, 1, 1, 1, 1, 1, 1, 1, 1, 0, 1, 1, 0, 0, 0, 1, 0, 0, 0, 0, 0, 1, 0, 1, 0, 0, 0, 0, 0, 0, 0, 0, 0, 0, 1, 2, 1, 0, 2, 1, 0, 1, 1, 1, 1, 3, 2, 1, 4, 1, 1, 0, 1, 1, 0, 1, 2, 2, 2, 2, 2, 1, 1, 2, 2, 3, 1, 1, 0, 1, 1, 0, 2, 2, 0, 1, 2, 0, 1, 0, 2, 0, 2, 1, 1, 1, 0, 0, 0, 0, 0, 0, 0, 0, 0, 0, 0, 0, 0, 0, 0, 0, 0, 0, 0, 0, 0, 0, 0, 1, 0, 1, 1, 0, 2, 0, 1, 0, 3, 1, 1, 1, 2, 1, 2, 1, 3, 1, 1, 2, 1, 1, 2, 2, 2, 2, 2, 1, 2, 2, 0, 2, 0, 1, 1, 0, 1, 1, 0, 1, 1, 2, 2, 2, 1, 0, 0, 0, 1, 0, 0, 0, 0, 0, 0, 0, 0, 0, 0, 0, 0, 0, 0, 1, 2, 1, 1, 1, 1, 0, 1, 2, 1, 1, 1, 2, 1, 1, 1, 1, 1, 1, 2, 1, 2, 2, 1, 0, 3, 2, 1, 1, 1, 1, 1, 1, 2, 2, 2, 2, 1, 1, 2, 2, 2, 0, 2, 0, 1, 2, 2, 0, 2, 0, 1, 1, 0, 1, 1, 0, 1, 0, 0, 0, 0, 0, 0, 0, 0, 0, 0, 0, 0, 0, 0, 0, 0, 0, 0, 1, 2, 0, 1, 1, 1, 1, 1, 2, 1, 1, 1, 1, 1, 1, 1, 2, 1, 1, 1, 1, 2, 1, 1, 0, 1, 0, 2, 1, 1, 1, 0, 2, 1, 1, 1, 0, 2, 1, 2, 2, 0, 2, 0, 2, 0, 1, 1, 0, 1, 1, 0, 0, 0, 1, 1, 0, 0, 0, 0, 0, 0, 0, 0, 0, 0, 0, 0, 1, 1, 1, 1, 1, 1, 1, 1, 2, 1, 2, 2, 3, 2, 2, 1, 2, 2, 2, 2, 2, 1, 0, 1, 0, 0, 1, 1, 1, 0, 1, 0, 2, 2, 1, 1, 1, 1, 1, 0, 3, 1, 1, 2, 1, 2, 2, 0, 2, 0, 2, 0, 2, 2, 2, 0, 1, 0, 1, 0, 0, 0, 1, 0, 0, 0, 0, 0, 0, 0, 0, 0, 1, 1, 1, 1, 1, 1, 1, 2, 1, 1, 1, 1, 1, 1, 1, 2, 2, 1, 1, 0, 3, 2, 2, 1, 1, 0, 0, 0, 0, 2, 0, 2, 1, 1, 1, 1, 2, 2, 1, 2, 1, 1, 1, 2, 2, 2, 1, 0, 2, 2, 1, 2, 0, 1, 0, 2, 0, 1, 1, 1, 0, 0, 0, 0, 0, 0, 0, 0, 0, 2, 0, 1, 1, 0, 1, 1, 1, 1, 0, 0, 1, 1, 1, 0, 1, 1, 1, 1, 1, 2, 0, 2, 1, 1, 1, 1, 0, 0, 0, 1, 0, 0, 1, 0, 1, 1, 2, 0, 0, 1, 0, 1, 1, 0, 1, 1, 1, 0, 1, 1, 0, 1, 1, 1, 2, 2, 3, 2, 1, 0, 2, 1, 1, 0, 1, 1, 1, 1, 1, 1, 1, 0, 0, 0, 0, 0, 0, 1, 1, 1, 1, 1, 1, 1, 1, 1, 1, 1, 1, 1, 1, 1, 2, 2, 2, 1, 1, 0, 1, 2, 1, 1, 2, 0, 0, 1, 1, 2, 1, 1, 0, 1, 0, 0, 1, 2, 1, 1, 1, 1, 2, 1, 0, 0, 2, 1, 1, 1, 0, 1, 0, 1, 1, 1, 1, 2, 1, 1, 0, 1, 2, 0, 1, 1, 2, 2, 1, 0, 2, 0, 2, 0, 0, 0, 1, 1, 0, 1, 0, 0, 0, 1, 0, 2, 1, 1, 1, 1, 1, 0, 2, 1, 1, 1, 0, 1, 1, 0, 2, 1, 2, 0, 1, 2, 0, 1, 2, 1, 1, 0, 2, 2, 1, 1, 1, 1, 0, 1, 0, 2, 1, 2, 2, 1, 3, 0, 1, 1, 1, 0, 0, 0, 1, 0, 1, 1, 1, 1, 1, 1, 1, 1, 1, 0, 2, 1, 1, 1, 2, 0, 0, 1, 1, 0, 1, 0, 0, 0, 0, 1, 1, 1, 1, 1, 0, 1, 1, 2, 2, 2, 1, 2, 2, 2, 1, 3, 2, 2, 0, 1, 1, 1, 1, 0, 0, 2, 1, 1, 1, 0, 2, 0, 1, 2, 1, 0, 3, 1, 1, 2, 4, 1, 2, 2, 3, 0, 2, 0, 1, 1, 1, 1, 2, 2, 0, 1, 2, 2, 1, 2, 2, 2, 1, 2, 1, 2, 1, 1, 4, 1, 0, 1, 2, 2, 2, 2, 1, 2, 0, 2, 2, 2, 0, 2, 2, 1, 2, 1, 2, 2, 2, 2, 0, 2, 1, 2, 2, 2, 2, 3, 2, 2, 1, 2, 1, 1, 1, 1, 1, 2, 1, 2, 0, 0, 2, 1, 2, 1, 1, 2, 2, 1, 2, 1, 2, 0, 1, 1, 2, 1, 2, 0, 1, 2, 1, 2, 0, 4, 1, 1, 4, 1, 0, 2, 2, 1, 1, 3, 2, 1, 2, 0, 2, 2, 1, 2, 2, 2, 2, 2, 2, 1, 2, 1, 2, 2, 1, 1, 0, 1, 0, 1, 0, 0, 0, 1, 0, 2, 2, 2, 2, 2, 0, 2, 1, 2, 2, 0, 3, 3, 1, 2, 0, 3, 1, 0, 2, 2, 1, 2, 2, 2, 2, 1, 2, 2, 4, 2, 1, 1, 1, 2, 1, 3, 1, 1, 2, 1, 1, 1, 1, 0, 1, 1, 1, 1, 1, 2, 1, 0, 1, 1, 0, 1, 1, 1, 1, 0, 1, 1, 0, 1, 2, 0, 2, 0, 1, 0, 3, 2, 2, 2, 3, 2, 1, 1, 1, 1, 2, 2, 2, 2, 1, 1, 1, 1, 0, 3, 1, 1, 2, 1, 2, 0, 1, 2, 0, 1, 2, 2, 1, 2, 0, 2, 1, 2, 1, 1, 1, 2, 1, 1, 1, 2, 2, 1, 1, 1, 1, 1, 1, 0, 1, 1, 1, 1, 2, 2, 1, 2, 0, 2, 1, 3, 2, 2, 2, 1, 1, 2, 1, 3, 2, 2, 2, 2, 2, 2, 1, 2, 1, 1, 0, 1, 3, 3, 2, 3, 2, 2, 6, 2, 2, 2, 3, 3, 1, 3, 1, 1, 0, 1, 1, 2, 2, 1, 1, 2, 1, 1, 1, 2, 1, 1, 2, 1, 1, 1, 2, 1, 2, 2, 2, 1, 2, 1, 1, 2, 0, 0, 0, 0, 2, 2, 2, 1, 1, 1, 0, 2, 1, 2, 1, 2, 1, 1, 2, 2, 1, 1, 2, 2, 1, 2, 3, 2, 1, 2, 2, 2, 0, 3, 2, 1, 0, 0, 2, 1, 1, 1, 1, 0, 1, 1, 2, 1, 1, 1, 2, 1, 1, 0, 1, 1, 1, 2, 2, 2, 1, 1, 2, 2, 2, 2, 2, 2, 2, 0, 2, 1, 1, 1, 2, 2, 1, 2, 1, 0, 1, 2, 3, 1, 2, 1, 2, 1, 1, 0, 3, 2, 0, 1, 2, 2, 2, 2, 1, 1, 3, 3, 1, 1, 1, 2, 0, 2, 1, 2, 0, 3, 2, 1, 1, 1, 1, 1, 0, 1, 1, 2, 1, 2, 2, 1, 1, 1, 1, 2, 2, 2, 2, 1, 1, 2, 1, 0, 1, 2, 1, 3, 2, 6, 0, 2, 2, 2, 2, 1, 1, 1, 1, 1, 1, 1, 2, 2, 2, 1, 1, 2, 1, 1, 1, 2, 1, 2, 1, 2, 1, 1, 2, 2, 1, 0, 1, 2, 0, 2, 1, 3, 2, 1, 0, 1, 2, 1, 2, 2, 2, 2, 2, 0, 2, 2, 1, 1, 1, 2, 1, 0, 1, 2, 2, 1, 2, 1, 1, 1, 1, 1, 1, 1, 1, 1, 1, 1, 1, 1, 1, 1, 1, 0, 1, 1, 2, 1, 1, 1, 1, 0, 0, 1, 2, 2, 0, 1, 1, 0, 2, 1, 4, 2, 2, 1, 2, 2, 2, 2, 1, 2, 2, 1, 2, 2, 0, 1, 1, 2, 1, 1, 1, 2, 3, 0, 2, 1, 1, 1, 1, 1, 1, 1, 1, 1, 1, 1, 1, 0, 0, 1, 0, 1, 1, 0, 2, 1, 1, 1, 0, 2, 1, 1, 1, 1, 1, 1, 1, 0, 1, 2, 0, 0, 2, 2, 1, 2, 1, 0, 2, 1, 0, 1, 0, 1, 2, 1, 1, 2, 1, 2, 1, 1, 1, 2, 3, 1, 1, 1, 1, 2, 2, 0, 2, 1, 1, 1, 0, 3, 0, 1, 3, 2, 0, 2, 1, 1, 0, 2, 1, 1, 1, 1, 0, 2, 1, 1, 1, 1, 1, 1, 1, 1, 1, 1, 1, 1, 3, 2, 2, 1, 1, 1, 1, 0, 1, 1, 1, 1, 1, 1, 1, 2, 0, 1, 1, 2, 1, 0, 1, 1, 2, 1, 1, 1, 1, 1, 1, 0, 1, 0, 1, 1, 0, 1, 2, 2, 1, 1, 2, 0, 2, 1, 1, 1, 1, 2, 1, 2, 0, 1, 1, 1, 2, 1, 2, 1, 1, 1, 2, 1, 0, 0, 1, 1, 0, 1, 0, 1, 2, 1, 3, 2, 1, 1, 2, 4, 1, 0, 2, 1, 1, 1, 1, 2, 1, 2, 2, 2, 2, 1, 1, 2, 0, 1, 0, 1, 1, 1, 1, 1, 1, 0, 1, 0, 1, 0, 1, 1, 1, 1, 2, 0, 2, 2, 1, 1, 1, 1, 3, 3, 2, 1, 2, 2, 2, 1, 2, 3, 1, 2, 0, 0, 3, 1, 1, 1, 2, 1, 2, 2, 2, 1, 2, 2, 2, 2, 1, 2, 1, 1, 2, 1, 1, 0, 2, 1, 1, 1, 1, 1, 1, 0, 2, 1, 1, 1, 1, 1, 2, 2, 2, 1, 2, 1, 2, 1, 1, 1, 1, 1, 2, 1, 1, 2, 2, 1, 2, 1, 1, 1, 1, 0, 1, 0, 0, 0, 2, 1, 1, 2, 1, 1, 2, 0, 2, 2, 2, 2, 2, 1, 1, 0, 0, 2, 1, 2, 2, 1, 2, 1, 0, 2, 1, 1, 2, 0, 2, 2, 1, 1, 1, 2, 2, 2, 2, 3, 0, 1, 2, 1, 2, 1, 2, 2, 2, 2, 1, 2, 1, 2, 0, 2, 2, 1, 0, 2, 2, 0, 1, 2, 1, 2, 1, 1, 1, 2, 2, 1, 0, 1, 1, 2, 1, 1, 1, 1, 2, 0, 2, 1, 2, 1, 0, 1, 2, 2, 2, 0, 1, 1, 2, 1, 1, 2, 2, 2, 3, 0, 1, 2, 1, 3, 2, 2, 2, 1, 1, 0, 2, 0, 1, 1, 2, 0, 0, 1, 1, 0, 2, 2, 0, 2, 1, 1, 1, 1, 2, 2, 0, 2, 1, 1, 2, 2, 2, 1, 3, 1, 1, 0, 1, 0, 1, 3, 1, 2, 0, 3, 1, 1, 1, 2, 1, 2, 2, 0, 1, 2, 2, 1, 1, 0, 1, 4, 0, 2, 0, 1, 2, 3, 3, 2, 1, 1, 1, 1, 1, 0, 0, 3, 1, 2, 1, 2, 1, 2, 1, 0, 1, 2, 1, 0, 1, 2, 2, 2, 1, 0, 1, 1, 0, 2, 2, 2, 1, 1, 0, 1, 2, 2, 1, 2, 0, 2, 1, 1, 0, 0, 0, 1, 1, 1, 1, 0, 1, 0, 1, 1, 2, 1, 1, 3, 2, 1, 1, 1, 1, 1, 2, 2, 2, 1, 2, 0, 2, 2, 2, 0, 1, 1, 0, 2, 2, 1, 1, 0, 1, 1, 2, 1, 1, 1, 2, 1, 2, 0, 1, 2, 1, 3, 3, 1, 2, 0, 1, 1, 0, 0, 1, 2, 2, 1, 1, 1, 1, 1, 1, 1, 1, 1, 1, 1, 1, 1, 1, 0, 0, 2, 0, 0, 1, 0, 2, 0, 2, 2, 1, 1, 0, 2, 0, 1, 1, 1, 2, 2, 1, 2, 1, 1, 2, 1, 1, 3, 1, 2, 2, 2, 2, 2, 0, 2, 1, 2, 0, 1, 1, 1, 1, 1, 1, 1, 1, 1, 1, 1, 1, 1, 1, 2, 0, 1, 1, 1, 0, 0, 1, 0, 0, 1, 0, 2, 0, 1, 1, 1, 1, 1, 1, 1, 1, 1, 1, 1, 1, 1, 1, 1, 0, 2, 1, 0, 1, 1, 1, 1, 0, 1, 1, 1, 0, 1, 1, 0, 1, 0, 2, 1, 0, 1, 3, 1, 1, 2, 1, 0, 2, 1, 2, 1, 0, 1, 1, 0, 1, 1, 0, 1, 1, 1, 1, 1, 1, 1, 1, 1, 0, 2, 1, 1, 1, 1, 1, 1, 1, 1, 1, 0, 1, 2, 0, 1, 0, 1, 1, 0, 1, 0, 1, 1, 1, 2, 2, 1, 1, 1, 1, 1, 1, 1, 1, 2, 1, 1, 0, 1, 1, 2, 1, 1, 1, 1, 1, 2, 1, 0, 0, 2, 2, 2, 1, 1, 2, 1, 1, 1, 2, 2, 1, 2, 1, 0, 2, 1, 0, 1, 1, 0, 1, 2, 1, 1, 1, 2, 1, 3, 1, 1, 1, 0, 1, 1, 0, 2, 1, 1, 1, 0, 1, 1, 0, 1, 0, 1, 1, 1, 1, 0, 0, 0, 1, 1, 2, 2, 2, 3, 1, 0, 1, 2, 1, 1, 1, 1, 1, 1, 1, 1, 1, 1, 0, 1, 1, 1, 1, 1, 0, 1, 1, 1, 1, 1, 1, 0, 0, 1, 1, 1, 1, 1, 1, 0, 1, 0, 1, 1, 0, 0, 1, 1, 1, 0, 1, 1, 0, 1, 1, 1, 1, 1, 1, 1, 1, 1, 1, 0, 1, 1, 1, 1, 0, 1, 0, 1, 1, 1, 1, 1, 1, 1, 1, 0, 1, 1, 0, 0, 1, 1, 1, 1, 1, 1, 1, 0, 0, 1, 1, 0, 1, 1, 1, 1, 1, 1, 1, 1, 1, 0, 0, 1, 0, 1, 1, 1, 0, 0, 1, 1, 1, 0, 0, 1, 1, 1, 0, 1, 1, 1, 0, 1, 1, 1, 1, 0, 0, 1, 0, 0, 1, 1, 0, 1, 1, 0, 1, 1, 1, 1, 0, 1, 1, 1, 1, 1, 1, 1, 1, 1, 0, 2, 1, 1, 0, 1, 1, 1, 1, 1, 1, 2, 1, 0, 1, 0, 0, 1, 1, 1, 1, 1, 1, 1, 0, 1, 0, 2, 1, 1, 0, 3, 2, 1, 2, 1, 0, 2, 1, 1, 1, 1, 1, 1, 1, 2, 0, 1, 1, 1, 1, 1, 1, 1, 1, 1, 1, 0, 1, 1, 1, 1, 0, 1, 0, 1, 2, 1, 0, 1, 1, 1, 1, 1, 1, 1, 0, 2, 0, 0, 0, 1, 1, 1, 1, 1, 2, 0, 2, 2, 1, 1, 1, 2, 2, 2, 1, 0, 2, 0, 3, 1, 1, 1, 1, 0, 1, 1, 1, 1, 1, 1, 1, 1, 1, 1, 1, 1, 1, 1, 1, 1, 1, 1, 1, 1, 0, 1, 0, 0, 0, 1, 0, 1, 1, 0, 0, 1, 1, 1, 1, 0, 0, 1, 2, 1, 0, 0, 2, 3, 1, 3, 1, 0, 2, 1, 1, 0, 2, 3, 1, 0, 2, 1, 2, 0, 2, 0, 1, 1, 1, 1, 2, 0, 1, 1, 1, 1, 1, 1, 1, 1, 1, 1, 1, 0, 0, 1, 1, 0, 0, 1, 1, 1, 1, 1, 0, 1, 2, 1, 1, 1, 1, 1, 1, 1, 0, 1, 1, 1, 2, 1, 2, 2, 3, 2, 1, 2, 1, 1, 1, 0, 0, 1, 4, 3, 2, 1, 1, 2, 1, 1, 1, 2, 2, 1, 1, 1, 0, 3, 1, 2, 1, 1, 2, 1, 2, 2, 0, 1, 0, 1, 1, 1, 0, 1, 0, 0, 1, 2, 2, 1, 1, 0, 2, 1, 1, 0, 1, 1, 0, 1, 1, 0, 1, 0, 1, 0, 0, 2, 1, 2, 0, 1, 0, 2, 1, 1, 0, 2, 2, 2, 2, 1, 0, 2, 1, 1, 0, 1, 2, 0, 1, 1, 1, 0, 1, 0, 0, 3, 1, 2, 2, 0, 2, 2, 1, 2, 0, 2, 1, 2, 1, 2, 1, 1, 0, 2, 0, 2, 1, 1, 0, 0, 2, 2, 1, 1, 1, 0, 1, 1, 1, 1, 1, 0, 1, 0, 1, 2, 3, 3, 1, 3, 0, 2, 0, 1, 0, 1, 1, 1, 0, 2, 2, 1, 1, 2, 1, 1, 2, 1, 1, 2, 1, 1, 0, 2, 1, 2, 2, 1, 1, 2, 1, 2, 2, 1, 2, 0, 1, 0, 0, 1, 2, 3, 1, 1, 3, 2, 2, 1, 0, 1, 1, 1, 1] 3416\n"
     ]
    }
   ],
   "source": [
    "x3_count_in_line = [0]*len(processed_x2)\n",
    "x2_counter=0\n",
    "x3_counter = 0\n",
    "while True:\n",
    "    p = processed_x3[x3_counter]\n",
    "    #print(p, processed_x2[x2_counter])\n",
    "    if p<=x2[x2_counter]:\n",
    "        x3_count_in_line[x2_counter]+=1\n",
    "        x3_counter += 1\n",
    "    else:\n",
    "        x2_counter += 1\n",
    "    if x2_counter >= len(processed_x2) or x3_counter >= len(processed_x3):\n",
    "        break\n",
    "        \n",
    "print(x3_count_in_line, len(x3_count_in_line))"
   ]
  },
  {
   "cell_type": "code",
   "execution_count": null,
   "id": "8a4c0c4b",
   "metadata": {},
   "outputs": [],
   "source": []
  }
 ],
 "metadata": {
  "kernelspec": {
   "display_name": "Python 3 (ipykernel)",
   "language": "python",
   "name": "python3"
  },
  "language_info": {
   "codemirror_mode": {
    "name": "ipython",
    "version": 3
   },
   "file_extension": ".py",
   "mimetype": "text/x-python",
   "name": "python",
   "nbconvert_exporter": "python",
   "pygments_lexer": "ipython3",
   "version": "3.8.5"
  }
 },
 "nbformat": 4,
 "nbformat_minor": 5
}
